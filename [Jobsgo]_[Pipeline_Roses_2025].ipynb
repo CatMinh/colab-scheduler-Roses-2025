{
  "nbformat": 4,
  "nbformat_minor": 0,
  "metadata": {
    "colab": {
      "provenance": []
    },
    "kernelspec": {
      "name": "python3",
      "display_name": "Python 3"
    },
    "language_info": {
      "name": "python"
    }
  },
  "cells": [
    {
      "cell_type": "code",
      "execution_count": 39,
      "metadata": {
        "colab": {
          "base_uri": "https://localhost:8080/"
        },
        "id": "BoQ09bXAb3tM",
        "outputId": "853f3ae6-bc92-46e5-c9f6-750e165ba1fa"
      },
      "outputs": [
        {
          "output_type": "stream",
          "name": "stdout",
          "text": [
            "Requirement already satisfied: gspread in /usr/local/lib/python3.12/dist-packages (6.2.1)\n",
            "Requirement already satisfied: pandas in /usr/local/lib/python3.12/dist-packages (2.2.2)\n",
            "Requirement already satisfied: oauth2client in /usr/local/lib/python3.12/dist-packages (4.1.3)\n",
            "Requirement already satisfied: google-auth>=1.12.0 in /usr/local/lib/python3.12/dist-packages (from gspread) (2.38.0)\n",
            "Requirement already satisfied: google-auth-oauthlib>=0.4.1 in /usr/local/lib/python3.12/dist-packages (from gspread) (1.2.2)\n",
            "Requirement already satisfied: numpy>=1.26.0 in /usr/local/lib/python3.12/dist-packages (from pandas) (2.0.2)\n",
            "Requirement already satisfied: python-dateutil>=2.8.2 in /usr/local/lib/python3.12/dist-packages (from pandas) (2.9.0.post0)\n",
            "Requirement already satisfied: pytz>=2020.1 in /usr/local/lib/python3.12/dist-packages (from pandas) (2025.2)\n",
            "Requirement already satisfied: tzdata>=2022.7 in /usr/local/lib/python3.12/dist-packages (from pandas) (2025.2)\n",
            "Requirement already satisfied: httplib2>=0.9.1 in /usr/local/lib/python3.12/dist-packages (from oauth2client) (0.22.0)\n",
            "Requirement already satisfied: pyasn1>=0.1.7 in /usr/local/lib/python3.12/dist-packages (from oauth2client) (0.6.1)\n",
            "Requirement already satisfied: pyasn1-modules>=0.0.5 in /usr/local/lib/python3.12/dist-packages (from oauth2client) (0.4.2)\n",
            "Requirement already satisfied: rsa>=3.1.4 in /usr/local/lib/python3.12/dist-packages (from oauth2client) (4.9.1)\n",
            "Requirement already satisfied: six>=1.6.1 in /usr/local/lib/python3.12/dist-packages (from oauth2client) (1.17.0)\n",
            "Requirement already satisfied: cachetools<6.0,>=2.0.0 in /usr/local/lib/python3.12/dist-packages (from google-auth>=1.12.0->gspread) (5.5.2)\n",
            "Requirement already satisfied: requests-oauthlib>=0.7.0 in /usr/local/lib/python3.12/dist-packages (from google-auth-oauthlib>=0.4.1->gspread) (2.0.0)\n",
            "Requirement already satisfied: pyparsing!=3.0.0,!=3.0.1,!=3.0.2,!=3.0.3,<4,>=2.4.2 in /usr/local/lib/python3.12/dist-packages (from httplib2>=0.9.1->oauth2client) (3.2.3)\n",
            "Requirement already satisfied: oauthlib>=3.0.0 in /usr/local/lib/python3.12/dist-packages (from requests-oauthlib>=0.7.0->google-auth-oauthlib>=0.4.1->gspread) (3.3.1)\n",
            "Requirement already satisfied: requests>=2.0.0 in /usr/local/lib/python3.12/dist-packages (from requests-oauthlib>=0.7.0->google-auth-oauthlib>=0.4.1->gspread) (2.32.4)\n",
            "Requirement already satisfied: charset_normalizer<4,>=2 in /usr/local/lib/python3.12/dist-packages (from requests>=2.0.0->requests-oauthlib>=0.7.0->google-auth-oauthlib>=0.4.1->gspread) (3.4.3)\n",
            "Requirement already satisfied: idna<4,>=2.5 in /usr/local/lib/python3.12/dist-packages (from requests>=2.0.0->requests-oauthlib>=0.7.0->google-auth-oauthlib>=0.4.1->gspread) (3.10)\n",
            "Requirement already satisfied: urllib3<3,>=1.21.1 in /usr/local/lib/python3.12/dist-packages (from requests>=2.0.0->requests-oauthlib>=0.7.0->google-auth-oauthlib>=0.4.1->gspread) (2.5.0)\n",
            "Requirement already satisfied: certifi>=2017.4.17 in /usr/local/lib/python3.12/dist-packages (from requests>=2.0.0->requests-oauthlib>=0.7.0->google-auth-oauthlib>=0.4.1->gspread) (2025.8.3)\n"
          ]
        }
      ],
      "source": [
        "!pip install gspread pandas oauth2client"
      ]
    },
    {
      "cell_type": "code",
      "source": [
        "import gspread\n",
        "import pandas as pd\n",
        "from oauth2client.service_account import ServiceAccountCredentials\n",
        "import json\n",
        "import re\n",
        "import os\n",
        "\n",
        "\n",
        "\n",
        "# Ưu tiên lấy từ biến môi trường\n",
        "if \"SERVICE_ACCOUNT_JSON\" in os.environ:\n",
        "    service_account_info = json.loads(os.environ[\"SERVICE_ACCOUNT_JSON\"])\n",
        "else:\n",
        "    # Fallback: đọc từ file service_account.json (bạn phải upload lên Colab hoặc để sẵn trong project)\n",
        "    with open(\"service_account.json\") as f:\n",
        "        service_account_info = json.load(f)\n",
        "# --- 1. Authenticate ---\n",
        "scope = [\n",
        "    \"https://spreadsheets.google.com/feeds\",\n",
        "    \"https://www.googleapis.com/auth/drive\"\n",
        "]\n",
        "creds = ServiceAccountCredentials.from_json_keyfile_dict(service_account_info, scope)\n",
        "client = gspread.authorize(creds)\n",
        "\n",
        "# Mở Google Sheet\n",
        "spreadsheet = client.open_by_url(\n",
        "    \"https://docs.google.com/spreadsheets/d/1kzBnsanuUbyez4tlaqydXQYfKPHTWg0U5X5-KwpcF6w/edit?gid=1180872507#gid=1180872507\"\n",
        ")\n",
        "\n",
        "# --- 3. Define team regions ---\n",
        "hn_teams = ['Panther', 'Lion', 'News', \"Trộm vía\"]\n",
        "hcm_teams = ['Sandy', 'Victory', 'Mineral', 'New HCM', 'Phoenix', 'Diamond']\n",
        "\n",
        "all_data = []\n",
        "\n",
        "# --- 4. Quét qua tất cả sheet ---\n",
        "for ws in spreadsheet.worksheets():\n",
        "    if re.match(r\"^T\\d+$\", ws.title):  # chỉ lấy sheet có tên T + số\n",
        "        values = ws.get_all_values()\n",
        "        if len(values) < 2:\n",
        "            continue  # skip sheet trống\n",
        "\n",
        "        # Lấy dòng đầu tiên làm header, loại bỏ header trống\n",
        "        header = [h if h != \"\" else f\"col_{i}\" for i, h in enumerate(values[0])]\n",
        "        df = pd.DataFrame(values[1:], columns=header)\n",
        "\n",
        "        # Thêm cột Month\n",
        "        df[\"Month\"] = int(ws.title[1:])\n",
        "\n",
        "        # Thêm cột Vùng\n",
        "        if \"Tên team\" in df.columns:\n",
        "            df[\"Vùng\"] = df[\"Tên team\"].apply(\n",
        "                lambda x: \"HN\" if x in hn_teams else (\"HCM\" if x in hcm_teams else \"Other\")\n",
        "            )\n",
        "\n",
        "        all_data.append(df)\n",
        "\n",
        "# --- 5. Gộp tất cả sheet ---\n",
        "df_all = pd.concat(all_data, ignore_index=True)\n",
        "\n",
        "# --- 6. Lọc Leader ---\n",
        "if \"Team\" in df_all.columns:\n",
        "    leaders_df = df_all[df_all[\"Team\"] == \"Leader\"]\n",
        "else:\n",
        "    leaders_df = pd.DataFrame()  # tránh lỗi nếu thiếu cột Team\n",
        "\n",
        "# --- 7. Thêm KPI Vùng ---\n",
        "if \"Vùng\" in leaders_df.columns:\n",
        "    leaders_df[\"KPI Vùng\"] = leaders_df[\"Vùng\"].map({\n",
        "        \"HCM\": 1943993473,\n",
        "        \"HN\": 700000000\n",
        "    })\n",
        "# --- 8. Chỉ lấy cột cần thiết ---\n",
        "cols_needed = [c for c in [\"Tên team\", \"Month\", \"Vùng\", \" KPI \", \"KPI Vùng\"] if c in leaders_df.columns]\n",
        "leaders_df = leaders_df[cols_needed]\n",
        "\n",
        "\n",
        "\n",
        "# --- 9. Loại bỏ dòng có KPI TEAM trống ---\n",
        "# Tìm đúng cột KPI TEAM\n",
        "kpi_col = None\n",
        "for c in [\"KPI\", \" KPI \", \"KPI TEAM\"]:\n",
        "    if c in leaders_df.columns:\n",
        "        kpi_col = c\n",
        "        break\n",
        "\n",
        "if kpi_col:\n",
        "    leaders_df = leaders_df.dropna(subset=[kpi_col])  # bỏ NaN\n",
        "    leaders_df = leaders_df[leaders_df[kpi_col].astype(str).str.strip() != \"\"]  # bỏ chuỗi rỗng\n",
        "\n",
        "\n",
        "leaders_df[kpi_col] = (\n",
        "      leaders_df[kpi_col]\n",
        "      .astype(str)\n",
        "      .str.replace(\".\", \"\", regex=False)  # bỏ dấu chấm ngăn cách\n",
        "      )\n",
        "leaders_df[kpi_col] = pd.to_numeric(leaders_df[kpi_col], errors=\"coerce\")\n",
        "\n",
        "\n",
        "if kpi_col:\n",
        "    leaders_df = leaders_df.loc[\n",
        "        leaders_df.groupby([\"Tên team\", \"Month\"])[kpi_col].idxmax()\n",
        "    ].reset_index(drop=True)\n",
        "\n"
      ],
      "metadata": {
        "colab": {
          "base_uri": "https://localhost:8080/",
          "height": 211
        },
        "id": "6NZxDtVeerqb",
        "outputId": "97d9e9c7-8d6b-4600-bc66-d9144a525b66"
      },
      "execution_count": 42,
      "outputs": [
        {
          "output_type": "error",
          "ename": "FileNotFoundError",
          "evalue": "[Errno 2] No such file or directory: 'service_account.json'",
          "traceback": [
            "\u001b[0;31m---------------------------------------------------------------------------\u001b[0m",
            "\u001b[0;31mFileNotFoundError\u001b[0m                         Traceback (most recent call last)",
            "\u001b[0;32m/tmp/ipython-input-3972812823.py\u001b[0m in \u001b[0;36m<cell line: 0>\u001b[0;34m()\u001b[0m\n\u001b[1;32m     13\u001b[0m \u001b[0;32melse\u001b[0m\u001b[0;34m:\u001b[0m\u001b[0;34m\u001b[0m\u001b[0;34m\u001b[0m\u001b[0m\n\u001b[1;32m     14\u001b[0m     \u001b[0;31m# Fallback: đọc từ file service_account.json (bạn phải upload lên Colab hoặc để sẵn trong project)\u001b[0m\u001b[0;34m\u001b[0m\u001b[0;34m\u001b[0m\u001b[0m\n\u001b[0;32m---> 15\u001b[0;31m     \u001b[0;32mwith\u001b[0m \u001b[0mopen\u001b[0m\u001b[0;34m(\u001b[0m\u001b[0;34m\"service_account.json\"\u001b[0m\u001b[0;34m)\u001b[0m \u001b[0;32mas\u001b[0m \u001b[0mf\u001b[0m\u001b[0;34m:\u001b[0m\u001b[0;34m\u001b[0m\u001b[0;34m\u001b[0m\u001b[0m\n\u001b[0m\u001b[1;32m     16\u001b[0m         \u001b[0mservice_account_info\u001b[0m \u001b[0;34m=\u001b[0m \u001b[0mjson\u001b[0m\u001b[0;34m.\u001b[0m\u001b[0mload\u001b[0m\u001b[0;34m(\u001b[0m\u001b[0mf\u001b[0m\u001b[0;34m)\u001b[0m\u001b[0;34m\u001b[0m\u001b[0;34m\u001b[0m\u001b[0m\n\u001b[1;32m     17\u001b[0m \u001b[0;31m# --- 1. Authenticate ---\u001b[0m\u001b[0;34m\u001b[0m\u001b[0;34m\u001b[0m\u001b[0m\n",
            "\u001b[0;31mFileNotFoundError\u001b[0m: [Errno 2] No such file or directory: 'service_account.json'"
          ]
        }
      ]
    },
    {
      "cell_type": "code",
      "source": [
        "# Xuất DataFrame df sang Google Sheets\n",
        "spreadsheet = client.open_by_url(\"https://docs.google.com/spreadsheets/d/1C3YMR7tsGRldYQiwCVHUAilaTwMwTypoBO4fsFdlh2c/edit?gid=283772782#gid=283772782\")\n",
        "worksheet = spreadsheet.worksheet(\"KPI TEAM\")      # tab đầu tiên\n",
        "worksheet.clear()                                # xoá dữ liệu cũ\n",
        "worksheet.update([leaders_df.columns.values.tolist()] + leaders_df.values.tolist())\n",
        "\n",
        "print(\"✅ Đã ghi dữ liệu thành công lên Google Sheets!\")\n"
      ],
      "metadata": {
        "colab": {
          "base_uri": "https://localhost:8080/"
        },
        "id": "RB_ZxmCZk4GE",
        "outputId": "3048448b-3cfd-4a9c-a8cf-5bae5a4de8fd"
      },
      "execution_count": 38,
      "outputs": [
        {
          "output_type": "stream",
          "name": "stdout",
          "text": [
            "✅ Đã ghi dữ liệu thành công lên Google Sheets!\n"
          ]
        }
      ]
    }
  ]
}